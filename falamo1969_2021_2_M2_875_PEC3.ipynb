{
  "cells": [
    {
      "cell_type": "markdown",
      "metadata": {
        "id": "view-in-github",
        "colab_type": "text"
      },
      "source": [
        "<a href=\"https://colab.research.google.com/github/falamo1969/DL_PEC3/blob/main/falamo1969_2021_2_M2_875_PEC3.ipynb\" target=\"_parent\"><img src=\"https://colab.research.google.com/assets/colab-badge.svg\" alt=\"Open In Colab\"/></a>"
      ]
    },
    {
      "cell_type": "code",
      "execution_count": null,
      "metadata": {
        "id": "vzfQ__zQ62mC"
      },
      "outputs": [],
      "source": [
        ""
      ]
    },
    {
      "cell_type": "markdown",
      "metadata": {
        "id": "YO1mZRrP4FT2"
      },
      "source": [
        "<div style=\"width: 100%; clear: both;\">\n",
        "<div style=\"float: left; width: 50%;\">\n",
        "<img src=\"http://www.uoc.edu/portal/_resources/common/imatges/marca_UOC/UOC_Masterbrand.jpg\", align=\"left\">\n",
        "</div>\n",
        "<div style=\"float: right; width: 50%;\">\n",
        "<p style=\"margin: 0; padding-top: 22px; text-align:right;\">M2.875 · Deep Learning · PEC3\n",
        "</p>\n",
        "<p style=\"margin: 0; text-align:right;\">2021-2 · Máster universitario en Ciencia de datos (Data science)</p>\n",
        "<p style=\"margin: 0; text-align:right; padding-button: 100px;\">Estudios de Informática, Multimedia y Telecomunicación</p>\n",
        "</div>\n",
        "</div>\n",
        "<div style=\"width:100%;\">&nbsp;</div>\n",
        "\n",
        "\n",
        "# PEC 3: Recurrent Neural Networks\n",
        "\n",
        "En esta práctica implementaremos redes neuronales recurrentes para generar música.\n",
        "\n",
        "**Importante: La entrega debe hacerse en formato notebook y en formato html donde se vea el código y los resultados y comentarios de cada ejercicio. Para exportar el notebook a html puede hacerse desde el menú File $\\to$ Download as $\\to$ HTML.**"
      ]
    },
    {
      "cell_type": "markdown",
      "metadata": {
        "id": "8rXYszqtPC3X"
      },
      "source": [
        "# 0. Contexto y referencias"
      ]
    },
    {
      "cell_type": "markdown",
      "metadata": {
        "id": "23HcctV9PHD8"
      },
      "source": [
        "Esta PEC está basada en el siguiente [artículo de investigación](https://arxiv.org/pdf/1711.07682.pdf), aunque por motivos de extensión no podremos pasar por todos los puntos del artículo.\n",
        "\n",
        "La primera etapa de esta PEC será leer y entender la idea general de este trabajo. El artículo os da acceso al código original con el que se ha llevado a cabo el trabajo y en el que además esta basado gran parte del código que aquí os adjuntamos, aunque por la complejidad y extensión del código no os recomendamos que sumergáis demasiado en él.\n",
        "\n",
        "La PEC consta de una etapa de ***interpretación de los datos*** (un paso vital en todo proyecto real), donde se pedirá reproducir una gráfica del artículo. Luego ***entrenaremos*** una red LSTM para generar acordes a partir de archivos MIDI. Finalmente, usaremos la capa de ***embedding*** de la red entrenada para hacer una proyección de los acordes en 2D y visualizar el concepto de [word2vec](https://en.wikipedia.org/wiki/Word2vec)."
      ]
    },
    {
      "cell_type": "markdown",
      "metadata": {
        "id": "yAJEhzrBUoNj"
      },
      "source": [
        "Además de este fichero os hemos adjuntado un archivo comprimido con una estructura de datos similar a la usada en el artículo y que os recomendamos (por vuestro bien) que no modifiquéis :). Allí encontraréis una carpeta llamada *data* donde se encuentra la base de datos que usaremos y otros ficheros que os facilitamos con datos de redes ya entrenadas (en la carpeta *models*)"
      ]
    },
    {
      "cell_type": "markdown",
      "metadata": {
        "id": "TNeJCTqGN6M0"
      },
      "source": [
        "# 1. Procesado de datos [2.5 pts]"
      ]
    },
    {
      "cell_type": "markdown",
      "metadata": {
        "id": "HFZhc-3gh3BA"
      },
      "source": [
        "## 1.1 Importación de módulos y paquetes necesarios"
      ]
    },
    {
      "cell_type": "code",
      "execution_count": 1,
      "metadata": {
        "id": "kC_lb6hDNJD8",
        "colab": {
          "base_uri": "https://localhost:8080/"
        },
        "outputId": "545d35a5-e399-4594-cd07-6e7547cb7728"
      },
      "outputs": [
        {
          "output_type": "stream",
          "name": "stdout",
          "text": [
            "Collecting pretty_midi==0.2.8\n",
            "  Downloading pretty_midi-0.2.8.tar.gz (5.6 MB)\n",
            "\u001b[K     |████████████████████████████████| 5.6 MB 7.7 MB/s \n",
            "\u001b[?25hRequirement already satisfied: numpy>=1.7.0 in /usr/local/lib/python3.7/dist-packages (from pretty_midi==0.2.8) (1.21.6)\n",
            "Collecting mido>=1.1.16\n",
            "  Downloading mido-1.2.10-py2.py3-none-any.whl (51 kB)\n",
            "\u001b[K     |████████████████████████████████| 51 kB 2.8 MB/s \n",
            "\u001b[?25hRequirement already satisfied: six in /usr/local/lib/python3.7/dist-packages (from pretty_midi==0.2.8) (1.15.0)\n",
            "Building wheels for collected packages: pretty-midi\n",
            "  Building wheel for pretty-midi (setup.py) ... \u001b[?25l\u001b[?25hdone\n",
            "  Created wheel for pretty-midi: filename=pretty_midi-0.2.8-py3-none-any.whl size=5590821 sha256=1185aec4793391ad324221c898b5bf61bd67a537ff032d079fea6c49252e15e1\n",
            "  Stored in directory: /root/.cache/pip/wheels/53/fd/dd/20e1b16dbcf028bbbd7f53b570bc3521183731cba4a73cb310\n",
            "Successfully built pretty-midi\n",
            "Installing collected packages: mido, pretty-midi\n",
            "Successfully installed mido-1.2.10 pretty-midi-0.2.8\n"
          ]
        }
      ],
      "source": [
        "!pip install pretty_midi==0.2.8"
      ]
    },
    {
      "cell_type": "code",
      "execution_count": 2,
      "metadata": {
        "id": "8Dho4VBiNX22",
        "colab": {
          "base_uri": "https://localhost:8080/"
        },
        "outputId": "eef839a2-3421-43e3-992a-77b017eb3aeb"
      },
      "outputs": [
        {
          "output_type": "stream",
          "name": "stdout",
          "text": [
            "Mounted at /content/drive\n"
          ]
        }
      ],
      "source": [
        "from google.colab import drive\n",
        "drive.mount('/content/drive')"
      ]
    },
    {
      "cell_type": "code",
      "execution_count": 9,
      "metadata": {
        "id": "47q84NyONZf_",
        "colab": {
          "base_uri": "https://localhost:8080/"
        },
        "outputId": "115828e4-4c65-4895-b963-271eb86f09e0"
      },
      "outputs": [
        {
          "output_type": "stream",
          "name": "stdout",
          "text": [
            "/content/drive/.shortcut-targets-by-id/1E62yE1zUyo40g2N5BLS-VQkoZ3xgAG61/PEC3_PAC3\n"
          ]
        }
      ],
      "source": [
        "# añade el path a tu directorio\n",
        "%cd /content/drive/My Drive/PEC3_PAC3/"
      ]
    },
    {
      "cell_type": "code",
      "execution_count": 3,
      "metadata": {
        "id": "-aQnhJf8OVia"
      },
      "outputs": [],
      "source": [
        "import numpy as np\n",
        "import matplotlib.pyplot as plt\n",
        "import _pickle as pickle\n",
        "import os\n",
        "import sys\n",
        "import pretty_midi as pm\n",
        "import mido\n",
        "from collections import Counter\n",
        "import collections\n",
        "import pandas as pd"
      ]
    },
    {
      "cell_type": "markdown",
      "metadata": {
        "id": "bqTy38QPXdz8"
      },
      "source": [
        "importamos módulos propios (archivos .py) que podréis encontrar en la estructura de carpetas que os hemos facilitado"
      ]
    },
    {
      "cell_type": "code",
      "execution_count": 10,
      "metadata": {
        "id": "A8hOlwmbXdGD"
      },
      "outputs": [],
      "source": [
        "from settings import *\n",
        "import midi_functions as mf \n",
        "import data_processing_functions as dpf"
      ]
    },
    {
      "cell_type": "markdown",
      "metadata": {
        "id": "d457Myp0iAC6"
      },
      "source": [
        "## 1.2 Ficheros MIDI [1 pt]"
      ]
    },
    {
      "cell_type": "markdown",
      "metadata": {
        "id": "OkBli7noiYXJ"
      },
      "source": [
        "En esta sección vamos a entender un poco mejor la información que contiene un fichero MIDI y reproduciremos un archivo de nuestra base de datos. Para esta sección os recomendamos que le echéis un vistazo a la sección \"*Extract notes*\" del siguiente [tutorial de tensorflow](https://www.tensorflow.org/tutorials/audio/music_generation)."
      ]
    },
    {
      "cell_type": "markdown",
      "metadata": {
        "id": "QWjhouM0kHcD"
      },
      "source": [
        "1.2.1 Escoger un fichero MIDI de la base de datos y crear las funciones necesarias para extraer las notas, el tiempo en que se toca cada nota, su duración y el momento en que se tocan. Este proceso se debe aplicar solo a un instrumento: **\"Acoustic Grand Piano\"**. \n",
        "\n",
        "*nota: Si el fichero escogido no tiene piano elegir otro fichero*"
      ]
    },
    {
      "cell_type": "code",
      "execution_count": null,
      "metadata": {
        "id": "enL4QSw0CW2l"
      },
      "outputs": [],
      "source": [
        ""
      ]
    },
    {
      "cell_type": "markdown",
      "metadata": {
        "id": "bvOkNBItrqIZ"
      },
      "source": [
        "1.2.2 Modificar la funcion *plot_piano_roll* del tutorial para poder graficar el pianoroll de la canción MIDI escogida. En este caso deberemos poder indicar un tiempo máximo de la canción que queremos añadir en el pianoroll. Además, si pasamos un *max_time=-1*, se deberán graficar todas las notas de la canción"
      ]
    },
    {
      "cell_type": "code",
      "execution_count": null,
      "metadata": {
        "id": "THE0cdxNCXwH"
      },
      "outputs": [],
      "source": [
        "def plot_piano_roll(...):\n",
        "  pass"
      ]
    },
    {
      "cell_type": "markdown",
      "metadata": {
        "id": "Ry5uiuVywVb9"
      },
      "source": [
        "## 1.3 Procesado de datos [1.5 pts]"
      ]
    },
    {
      "cell_type": "markdown",
      "metadata": {
        "id": "Qhk-FbIVwfYH"
      },
      "source": [
        "Ahora volvemos al artículo y aplicaremos el procesado de datos. Buscar dentro del fichero *data_processing_functions.py* la función que se encarga de llevar a cabo todo el procesado de datos y llamarla desde aquí"
      ]
    },
    {
      "cell_type": "markdown",
      "metadata": {
        "id": "C_LOJsQR1WGH"
      },
      "source": [
        "1.3.1 ¿Qué hace la función *change_tempo_folder*?¿Qué bpm fija para las canciones?"
      ]
    },
    {
      "cell_type": "markdown",
      "metadata": {
        "id": "KAP_DAD8ChAl"
      },
      "source": [
        ""
      ]
    },
    {
      "cell_type": "markdown",
      "metadata": {
        "id": "l5DNt93c32tc"
      },
      "source": [
        "1.3.2 Una vez tenemos ejecutado el procesado de datos se habrán creado muchas carpetas y muchos ficheros nuevos en la actual carpeta ***data***. Ahora usaremos algunos de estos ficheros para construir la figura 2 del artículo usando los datos procesados. Crearemos dos funciones:\n",
        "*   my_save_histo_oct_from_midi_folder\n",
        "*   my_midi_to_histo_oct\n",
        "\n",
        "basadas en las funciones ***save_histo_oct_from_midi_folder*** y ***midi_to_histo_oct*** que encontraréis en los ficheros ***midi_functions.py*** y ***data_processing_functions.py***. Ahora las modificaremos para que nos devuelvan datos para dos tipos de histogramas: uno igual a la figura 2 del artículo (apariciones VS pitch) y otro, usando el *histo_oct*, que serán datos para graficar *apariciones VS notas en cualquier octava*, es decir, el número de veces que aparece una nota (sin importar a que octava pertenezca) a lo largo de una canción."
      ]
    },
    {
      "cell_type": "markdown",
      "metadata": {
        "id": "vHNEdanvAzLp"
      },
      "source": [
        "\n",
        "*indicación: Es importante entender la estructura de las variables:*\n",
        "*   pianoroll\n",
        "*   histo_bar\n",
        "*   histo_oct\n",
        "\n",
        "*dentro de la funcion* ***midi_to_histo_oct***"
      ]
    },
    {
      "cell_type": "code",
      "execution_count": null,
      "metadata": {
        "id": "IygIfEr3_z8_"
      },
      "outputs": [],
      "source": [
        "#usa este vector como labels del segundo gráfico \n",
        "notas_en_una_octava = ['C','C#','D','D#','E','F','F#','G','G#','A','A#','B']"
      ]
    },
    {
      "cell_type": "code",
      "execution_count": null,
      "metadata": {
        "id": "PuDexJSYCjo2"
      },
      "outputs": [],
      "source": [
        "def my_save_histo_oct_from_midi_folder(...):\n",
        "  pass\n",
        "\n",
        "def my_midi_to_histo_oct(...):\n",
        "  pass"
      ]
    },
    {
      "cell_type": "markdown",
      "metadata": {
        "id": "RWEqYiSwDNse"
      },
      "source": [
        "1.3.3 Buscar en internet sobre las escalas musicales e indicar que escala es la que más aparece en todas las canciones analizadas. ¿Cuáles dirías que son las notas más importantes de la escala?"
      ]
    },
    {
      "cell_type": "markdown",
      "metadata": {
        "id": "dz7cVn0uCkYT"
      },
      "source": [
        ""
      ]
    },
    {
      "cell_type": "markdown",
      "metadata": {
        "id": "r4r3sBgKy8bG"
      },
      "source": [
        "#2. LSTM para acordes [5 pts]"
      ]
    },
    {
      "cell_type": "markdown",
      "metadata": {
        "id": "Z6wMsYrIzPMI"
      },
      "source": [
        "El siguiente paso en el artículo es el entrenamiento de una red LSTM para la generación de acordes. Esta parte la haremos con un data set más pequeño y lo compararemos con resultados de entrenamientos previos que os faciliaremos. Primero cargamos la librerias que necesitaremos"
      ]
    },
    {
      "cell_type": "code",
      "execution_count": null,
      "metadata": {
        "id": "W_WNRwExGMqc"
      },
      "outputs": [],
      "source": [
        "from keras.models import Sequential\n",
        "from keras.layers import LSTM\n",
        "from keras.layers import Dense, Activation\n",
        "from keras.layers import Embedding\n",
        "from tensorflow.keras.optimizers import RMSprop, Adam\n",
        "import tensorflow as tf\n",
        "from tensorflow.compat.v1.keras.backend import set_session\n",
        "import keras.utils\n",
        "from keras.utils import np_utils\n",
        "from random import shuffle\n",
        "import progressbar\n",
        "import time"
      ]
    },
    {
      "cell_type": "markdown",
      "metadata": {
        "id": "W5pcyB6d0VIJ"
      },
      "source": [
        "## 2.1 Carga de datos [0.5 pts]"
      ]
    },
    {
      "cell_type": "markdown",
      "metadata": {
        "id": "xFE6WSN70S8m"
      },
      "source": [
        "2.1.1 En la carpeta ***data*** encontraréis un fichero llamado ***dataset.pkl*** que contiene 11338 canciones de train y 3780 de test. Usando *pickle* cargar los datos y luego separar 2000 para *train* y 500 canciones para *test* en las variables: \n",
        "*   train_set\n",
        "*   test_set\n",
        "\n",
        "crea además *train_set_size* y *test_set_size*"
      ]
    },
    {
      "cell_type": "code",
      "execution_count": null,
      "metadata": {
        "id": "b4oT9iNmCmFw"
      },
      "outputs": [],
      "source": [
        ""
      ]
    },
    {
      "cell_type": "markdown",
      "metadata": {
        "id": "AweMb9yv352X"
      },
      "source": [
        "## 2.2 Modelo con una capa de ***Embedding*** [0.5 pts]"
      ]
    },
    {
      "cell_type": "markdown",
      "metadata": {
        "id": "-If6wor_3_YG"
      },
      "source": [
        "2.2.1 Ahora definiremos los parámetros de nuestra red LSTM usando los parámetros que dan en el artículo. El único cambio será en el tamaño de la red LSTM, en la que usaremos la mitad de la LSTM del artículo y número de epochs que usaremos 10 en nuestro caso"
      ]
    },
    {
      "cell_type": "code",
      "execution_count": null,
      "metadata": {
        "id": "JpqqH3X36URV"
      },
      "outputs": [],
      "source": [
        "batch_size = 1\n",
        "step_size = 1\n",
        "epochs = 10\n",
        "\n",
        "#completar\n",
        "lstm_size = \n",
        "learning_rate =\n",
        "optimizer = "
      ]
    },
    {
      "cell_type": "markdown",
      "metadata": {
        "id": "WL28R7s_3f7w"
      },
      "source": [
        "El siguiente código es para mantener la estructura de carpetas que usan en el artículo ya que hay mucho código que depende de esta estructura:"
      ]
    },
    {
      "cell_type": "code",
      "execution_count": null,
      "metadata": {
        "id": "l1diXWzq3tun"
      },
      "outputs": [],
      "source": [
        "##--------NO TOCAR-------------------------------------------------------\n",
        "base_path = 'models/chords/'\n",
        "model_filetype = '.pickle'\n",
        "\n",
        "shuffle_train_set = True\n",
        "bidirectional = False\n",
        "\n",
        "#Create model dir\n",
        "fd = {'shifted': shifted, 'lr': learning_rate, 'emdim': chord_embedding_dim, 'opt': optimizer,\n",
        "'bi': bidirectional, 'lstms': lstm_size, 'trainsize': train_set_size, 'testsize': test_set_size, 'samples_per_bar': samples_per_bar}\n",
        "t = str(np.random.randint(1000,9999))\n",
        "model_name = t+ '-Shifted_%(shifted)s_Lr_%(lr)s_EmDim_%(emdim)s_opt_%(opt)s_bi_%(bi)s_lstmsize_%(lstms)s_trainsize_%(trainsize)s_testsize_%(testsize)s_samples_per_bar%(samples_per_bar)s' % fd\n",
        "model_path = base_path + model_name + '/'\n",
        "if not os.path.exists(model_path):\n",
        "    os.makedirs(model_path)\n",
        "##--------NO TOCAR-------------------------------------------------------\n"
      ]
    },
    {
      "cell_type": "markdown",
      "metadata": {
        "id": "PKt5WJ5d8YPb"
      },
      "source": [
        "2.2.2 Finalmente definimos y compilamos la red con una capa de Embedding antes de la LSTM. Para este paso, acceder al código original del artículo y buscar en que fichero se entrena la LSTM copiar la estructura eliminando código que no es de nuestro interés"
      ]
    },
    {
      "cell_type": "code",
      "execution_count": null,
      "metadata": {
        "id": "jlh6rMLuCn_Q"
      },
      "outputs": [],
      "source": [
        ""
      ]
    },
    {
      "cell_type": "markdown",
      "metadata": {
        "id": "aMLDg6O1BNKK"
      },
      "source": [
        "## 2.3 Entrenamiento [2 pts]"
      ]
    },
    {
      "cell_type": "markdown",
      "metadata": {
        "id": "Ki3ULd3FBU8l"
      },
      "source": [
        "2.3.1 Siguiendo el código orginal del artículo donde se define la arquitectura de la LSTM para los acordes hay 3 funciones más:\n",
        "*   test()\n",
        "*   train()\n",
        "*   save_params()\n",
        "\n",
        "que nos serán de ayuda para el entrenamiento, testeo y para guardar los datos sobre el modelo entrenado. Guardaremos el valor de la ***loss*** tanto para test como para train cada 500 canciones, por lo que tendremos más de un punto por epoch. Modifica, si es necesario, las funciones *test()* y *train()* para que los ficheros de *total_test* y *total_train* dejen constancia de la epoch a la que pertenecen, esto te ayudará al graficar los datos más adelante.\n",
        "\n",
        "Añade, antes de cada función una cabecera explicando brevemente lo que ésta hace.\n",
        "\n",
        "---\n",
        "\n",
        "*nota: comprueba que has definido todas las variables necesarias para que las* *funciones no den error en mitad del entrenamiento. Comienza usando menos datos* *para agilizar el proceso y una vez funcione todo usa el set completo*"
      ]
    },
    {
      "cell_type": "code",
      "execution_count": null,
      "metadata": {
        "id": "IDevHmNuCzGx"
      },
      "outputs": [],
      "source": [
        "epoch_array=[]\n",
        "total_test_loss_array = [] \n",
        "total_train_loss_array = []\n",
        "total_test_loss = 0\n",
        "show_plot = False\n",
        "save_plot = False\n",
        "test_step = 500\n",
        "verbose = False\n",
        "save_step = 1\n",
        "\n",
        "\n",
        "#crea aquí las funciones test(), train() y save_params()"
      ]
    },
    {
      "cell_type": "markdown",
      "metadata": {
        "id": "P7byp9y1_00y"
      },
      "source": [
        "2.3.2 Responde las siguientes preguntas:\n",
        "*  ¿Qué representa cada elemento de *X* en la función de *train()*?\n",
        "*  ¿Qué se está usando como *label* para cada elemento de *X*? \n",
        "*  Justifica el uso de *categorical_crossentropy* como función de loss\n",
        "*  ¿Qué crees que está aprendiendo la red?\n",
        "\n",
        "\n",
        "\n",
        "\n",
        " "
      ]
    },
    {
      "cell_type": "markdown",
      "metadata": {
        "id": "SjoEPKL7Cp9Z"
      },
      "source": [
        ""
      ]
    },
    {
      "cell_type": "markdown",
      "metadata": {
        "id": "Jzu-37C4EKom"
      },
      "source": [
        "2.3.3 Entrena la red usando las funciones anteriores"
      ]
    },
    {
      "cell_type": "code",
      "execution_count": null,
      "metadata": {
        "id": "gS16GEJaCrLH"
      },
      "outputs": [],
      "source": [
        ""
      ]
    },
    {
      "cell_type": "markdown",
      "metadata": {
        "id": "CkpRym4eFnN9"
      },
      "source": [
        "##2.4 Comparación de modelos [2 pts]"
      ]
    },
    {
      "cell_type": "markdown",
      "metadata": {
        "id": "FhwHC5ZJF0YW"
      },
      "source": [
        "En este último paso compararemos diferentes modelos. En la carpeta *models/chords* encontrarás los datos (en un formato similar al generado anteriormente) del entrenamiento de modelos similares con otros parámetros:\n",
        "\n",
        "1.   carpeta: 2717-Shifted_True_...\n",
        "2.   carpeta: 5102-Shifted_True_...\n",
        "\n"
      ]
    },
    {
      "cell_type": "markdown",
      "metadata": {
        "id": "ab531tCvGhI3"
      },
      "source": [
        "2.4.1 Compara los 3 modelos: grafica las funciones de loss para train y test de cada modelo.\n",
        "\n",
        "*   Indica los parámetros de cada uno de los 3 modelos (el que habéis entrenado y los 2 que os hemos dado)\n",
        "*   ¿Qué set de parámetros ha dado la mejor performance?\n",
        "*   ¿Se aprecia overfitting en alguno de los modelos? Justifica tu respuesta"
      ]
    },
    {
      "cell_type": "code",
      "execution_count": null,
      "metadata": {
        "id": "BEsa5EA2C-jQ"
      },
      "outputs": [],
      "source": [
        ""
      ]
    },
    {
      "cell_type": "markdown",
      "metadata": {
        "id": "kEWwrLqnIhlz"
      },
      "source": [
        "# 3 Análisis de la capa de embedding [2 pts]"
      ]
    },
    {
      "cell_type": "markdown",
      "metadata": {
        "id": "H01zsudCIuTg"
      },
      "source": [
        "En esta sección recrearemos la figura 8 del artículo con la red que hemos entrenado y la que mejor performance nos ha dado en la comparación. "
      ]
    },
    {
      "cell_type": "code",
      "execution_count": null,
      "metadata": {
        "id": "jn_xE9QDJoMz"
      },
      "outputs": [],
      "source": [
        "from keras.models import load_model\n",
        "import keras\n",
        "from keras import backend as K"
      ]
    },
    {
      "cell_type": "markdown",
      "metadata": {
        "id": "p0wEHRWAJ-ni"
      },
      "source": [
        "## 3.1 Carga de modelos entrenados y generación de embeddings [1 pts]"
      ]
    },
    {
      "cell_type": "markdown",
      "metadata": {
        "id": "GVFaCsSrKHLj"
      },
      "source": [
        "3.1.1 Utiliza el *load_model* de **keras** para cargar:\n",
        "*   el modelo que hemos entrenado: *my_model*\n",
        "*   el modelo con mejor performance: *bp_model*\n"
      ]
    },
    {
      "cell_type": "code",
      "execution_count": null,
      "metadata": {
        "id": "j58DCb2YDBkJ"
      },
      "outputs": [],
      "source": [
        ""
      ]
    },
    {
      "cell_type": "markdown",
      "metadata": {
        "id": "LvTrSPKTLxUO"
      },
      "source": [
        "3.1.2 Ahora crearemos, para cada modelo, un nuevo modelo para los embedding. Para hacer esto, deberás crear un nuevo modelo cuya entrada sea igual a la entrada de los modelos originales y la salida sea el layer \"embedding\". Esto lo puedes hacer usando la función *get_layer()* del modelo.\n"
      ]
    },
    {
      "cell_type": "code",
      "execution_count": null,
      "metadata": {
        "id": "1Q5vhuS1DCYc"
      },
      "outputs": [],
      "source": [
        ""
      ]
    },
    {
      "cell_type": "markdown",
      "metadata": {
        "id": "GVXc-FhGNfoP"
      },
      "source": [
        "3.1.3 El modelo de embedding recibe un acorde y devuelve un vector de 10 dimensiones con el embedding para cada acorde. Calcula estos vectores con cada uno de los modelos de embedding"
      ]
    },
    {
      "cell_type": "code",
      "execution_count": null,
      "metadata": {
        "id": "MNL05sWvDDZw"
      },
      "outputs": [],
      "source": [
        ""
      ]
    },
    {
      "cell_type": "markdown",
      "metadata": {
        "id": "D33AZTgmO9u1"
      },
      "source": [
        "3.1.4 Aplica un squeeze para eliminar los ejes de dimensión 1. El resultado de este squeeze debería ser (50,10)"
      ]
    },
    {
      "cell_type": "code",
      "execution_count": null,
      "metadata": {
        "id": "S-keKk13DEXK"
      },
      "outputs": [],
      "source": [
        ""
      ]
    },
    {
      "cell_type": "markdown",
      "metadata": {
        "id": "_hQcmzeIPtrG"
      },
      "source": [
        "## 3.2 Análisis PCA [1 pts]\n"
      ]
    },
    {
      "cell_type": "markdown",
      "metadata": {
        "id": "2vMTJ8nRbmMe"
      },
      "source": [
        "Para acabar con nuestro análisis de los embeddings, vamos a realizar un proceso de PCA para reducir las dimensiones de los vectores resultantes y poder graficarlos en 2D."
      ]
    },
    {
      "cell_type": "code",
      "execution_count": null,
      "metadata": {
        "id": "l9ROxo-lP-OY"
      },
      "outputs": [],
      "source": [
        "from sklearn.preprocessing import StandardScaler\n",
        "from sklearn.decomposition import PCA"
      ]
    },
    {
      "cell_type": "markdown",
      "metadata": {
        "id": "0qcipt5oP74r"
      },
      "source": [
        "3.2.1 Escalar los vectores y aplicar PCA para reducir a 2 las dimensiones"
      ]
    },
    {
      "cell_type": "code",
      "execution_count": null,
      "metadata": {
        "id": "1co2NuRtF1BU"
      },
      "outputs": [],
      "source": [
        ""
      ]
    },
    {
      "cell_type": "markdown",
      "metadata": {
        "id": "Pj4FLd8DaLsF"
      },
      "source": [
        "3.2.2 Grafica para ambos embeddings los vectores en un scatterplot. Añadele anotaciones con las notas del acorde y comenta el resultado: ¿Observas el efecto word2vect en las gráficas?"
      ]
    },
    {
      "cell_type": "code",
      "execution_count": null,
      "metadata": {
        "id": "WSE2OSp9F2Va"
      },
      "outputs": [],
      "source": [
        ""
      ]
    },
    {
      "cell_type": "markdown",
      "metadata": {
        "id": "lJDmLqpebnkI"
      },
      "source": [
        "Usa esta función para obtener un índice para los acordes y sus notas"
      ]
    },
    {
      "cell_type": "code",
      "execution_count": null,
      "metadata": {
        "id": "ROgMjNOmbbvK"
      },
      "outputs": [],
      "source": [
        "def get_chord_dict():\n",
        "    chord_to_index = pickle.load(open(dict_path + chord_dict_name, 'rb'))\n",
        "    index_to_chord = pickle.load(open(dict_path + index_dict_name, 'rb'))\n",
        "    return chord_to_index, index_to_chord\n",
        "\n",
        "chord_to_index, idx_2_chord = get_chord_dict()"
      ]
    },
    {
      "cell_type": "markdown",
      "metadata": {
        "id": "4TLRoLomVjzP"
      },
      "source": [
        "3.2.3 Crea una función para calcular todas las distancias entre los primero 20 acordes. Luego haz una lista con las 10 distancias mínimas para ambos modelos. ¿Están relacionados estos acordes con distancias mínimas?"
      ]
    },
    {
      "cell_type": "code",
      "execution_count": null,
      "metadata": {
        "id": "FLHzUPP9F5UJ"
      },
      "outputs": [],
      "source": [
        ""
      ]
    },
    {
      "cell_type": "markdown",
      "metadata": {
        "id": "PKXh0-X3mg70"
      },
      "source": [
        "# 4. Rueda de 5tas (Bonus Track) [0.5 pts]"
      ]
    },
    {
      "cell_type": "markdown",
      "metadata": {
        "id": "m3Ymmh_imljH"
      },
      "source": [
        "En este bonus track, y usando lo mismo que has usado para los apartados anteriores, podrás dibujar la rueda de quintas con datos entrenados sobre la misma base de datos, pero no hacer el shifteo de los acordes."
      ]
    },
    {
      "cell_type": "markdown",
      "metadata": {
        "id": "OyesH52p0QDZ"
      },
      "source": [
        "Usa los datos que encontrarás en la carpeta *models/chords/9671-Shifted_False...* para repetir el proceso del análisis de PCA"
      ]
    },
    {
      "cell_type": "markdown",
      "metadata": {
        "id": "ejP3t2sautBj"
      },
      "source": [
        "Una vez tienes los vectores, llama a las siguientes funciones para dibujar la rueda de quintas"
      ]
    },
    {
      "cell_type": "code",
      "execution_count": null,
      "metadata": {
        "id": "_7ZU_OXZnxqX"
      },
      "outputs": [],
      "source": [
        "def get_chord_dict_no_shifted():\n",
        "    chord_to_index = pickle.load(open('data/chord_dict.pickle', 'rb'))\n",
        "    index_to_chord = pickle.load(open('data/index_dict.pickle', 'rb'))\n",
        "    return chord_to_index, index_to_chord\n",
        "\n",
        "chord_to_index_, idx_2_chord_ = get_chord_dict_no_shifted()"
      ]
    },
    {
      "cell_type": "code",
      "execution_count": null,
      "metadata": {
        "id": "oTiU7UWtpnL2"
      },
      "outputs": [],
      "source": [
        "ddd={tuple((0,4,7)):'C',\n",
        "tuple((1,5,8)):'C#',\n",
        "tuple((2,6,9)):'D',\n",
        "tuple((3,7,10)):'D#',\n",
        "tuple((4,8,11)):'E',\n",
        "tuple((0,5,9)):'F',\n",
        "tuple((1,6,10)):'F#',\n",
        "tuple((2,7,11)):'G',\n",
        "tuple((0,3,8)):'G#',\n",
        "tuple((1,4,9)):'A',\n",
        "tuple((2,5,10)):'A#',\n",
        "tuple((3,6,11)):'B'}\n",
        "\n",
        "\n",
        "def plot_5th_circle(X_chords_2d):\n",
        "  \n",
        "  fig, ax = plt.subplots()\n",
        "  fig.set_size_inches(8, 6)\n",
        "\n",
        "  plt.tick_params(labelsize=12)\n",
        "  \n",
        "  style = dict(size=12, color='black')\n",
        "\n",
        "  for i in range(0,len(idx_2_chord_)):\n",
        "    try:\n",
        "      ax.text(-X_chords_2d[i,0]-0.32,X_chords_2d[i,1]+0.11, ddd[idx_2_chord_[i]],**style)\n",
        "      ax.scatter(-X_chords_2d[i,0],X_chords_2d[i,1], c=\"blue\", marker=\"*\")\n",
        "      \n",
        "    except:\n",
        "      pass\n",
        "\n",
        "  plt.show()"
      ]
    },
    {
      "cell_type": "code",
      "execution_count": null,
      "metadata": {
        "id": "mGBGU7LruOes"
      },
      "outputs": [],
      "source": [
        "plot_5th_circle(my_embedd_pca) #pasa los vectores luego del análisis de PCA"
      ]
    }
  ],
  "metadata": {
    "colab": {
      "collapsed_sections": [
        "YO1mZRrP4FT2"
      ],
      "name": "falamo1969 2021-2_M2.875_PEC3.ipynb",
      "provenance": [],
      "toc_visible": true,
      "include_colab_link": true
    },
    "kernelspec": {
      "display_name": "Python 3 (ipykernel)",
      "language": "python",
      "name": "python3"
    },
    "language_info": {
      "codemirror_mode": {
        "name": "ipython",
        "version": 3
      },
      "file_extension": ".py",
      "mimetype": "text/x-python",
      "name": "python",
      "nbconvert_exporter": "python",
      "pygments_lexer": "ipython3",
      "version": "3.9.12"
    }
  },
  "nbformat": 4,
  "nbformat_minor": 0
}